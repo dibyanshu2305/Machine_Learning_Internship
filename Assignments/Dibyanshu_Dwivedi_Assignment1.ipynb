{
 "cells": [
  {
   "cell_type": "code",
   "execution_count": 1,
   "metadata": {
    "colab": {
     "base_uri": "https://localhost:8080/"
    },
    "id": "wdXu8nrYYchg",
    "outputId": "6a62aa96-941e-4599-99ae-8145218b7910"
   },
   "outputs": [
    {
     "name": "stdout",
     "output_type": "stream",
     "text": [
      "\n",
      "Please wait a moment while I gather a list of all available modules...\n",
      "\n"
     ]
    },
    {
     "name": "stderr",
     "output_type": "stream",
     "text": [
      "WARNING: AstropyDeprecationWarning: The private astropy._erfa module has been made into its own package, pyerfa, which is a dependency of astropy and can be imported directly using \"import erfa\" [astropy._erfa]\n",
      "C:\\Users\\dibya\\anaconda3\\lib\\site-packages\\nltk\\twitter\\__init__.py:20: UserWarning: The twython library has not been installed. Some functionality from the twitter package will not be available.\n",
      "  warnings.warn(\n",
      "C:\\Users\\dibya\\anaconda3\\lib\\site-packages\\_distutils_hack\\__init__.py:30: UserWarning: Setuptools is replacing distutils.\n",
      "  warnings.warn(\"Setuptools is replacing distutils.\")\n"
     ]
    },
    {
     "name": "stdout",
     "output_type": "stream",
     "text": [
      "Update LANGUAGE_CODES (inside config/base.py) if a new translation has been added to Spyder\n"
     ]
    },
    {
     "name": "stderr",
     "output_type": "stream",
     "text": [
      "No QCoreApplication instance found. Application patches not applied. You have to call load_stylesheet function after instantiation of QApplication to take effect. \n",
      "NOTE: Redirects are currently not supported in Windows or MacOs.\n",
      "C:\\Users\\dibya\\anaconda3\\lib\\pkgutil.py:108: VisibleDeprecationWarning:\n",
      "\n",
      "zmq.eventloop.minitornado is deprecated in pyzmq 14.0 and will be removed.\n",
      "    Install tornado itself to use zmq with the tornado IOLoop.\n",
      "    \n",
      "\n"
     ]
    },
    {
     "name": "stdout",
     "output_type": "stream",
     "text": [
      "Cython              conda               multidict           sphinx\n",
      "IPython             conda_build         multipledispatch    spyder\n",
      "OpenSSL             conda_content_trust multiprocessing     spyder_kernels\n",
      "PIL                 conda_env           munkres             sqlalchemy\n",
      "PyQt5               conda_pack          murmurhash          sqlite3\n",
      "TBB                 conda_package_handling mypy_extensions     sre_compile\n",
      "__future__          conda_token         nacl                sre_constants\n",
      "_abc                conda_verify        navigator_updater   sre_parse\n",
      "_aix_support        configparser        nbclassic           srsly\n",
      "_argon2_cffi_bindings constantly          nbclient            ssl\n",
      "_ast                contextlib          nbconvert           sspi\n",
      "_asyncio            contextvars         nbformat            sspicon\n",
      "_bisect             contourpy           nest_asyncio        stack_data\n",
      "_black_version      cookiecutter        netbios             stat\n",
      "_blake2             copy                netrc               statistics\n",
      "_bootlocale         copyreg             networkx            statsmodels\n",
      "_bootsubprocess     crypt               nltk                string\n",
      "_bz2                cryptography        nntplib             stringprep\n",
      "_cffi_backend       cssselect           nose                struct\n",
      "_codecs             csv                 notebook            subprocess\n",
      "_codecs_cn          ctypes              nt                  sunau\n",
      "_codecs_hk          curl                ntpath              symbol\n",
      "_codecs_iso2022     curses              ntsecuritycon       sympy\n",
      "_codecs_jp          cv2                 nturl2path          symtable\n",
      "_codecs_kr          cwp                 numba               sys\n",
      "_codecs_tw          cycler              numbergen           sysconfig\n",
      "_collections        cymem               numbers             tables\n",
      "_collections_abc    cython              numexpr             tabnanny\n",
      "_compat_pickle      cytoolz             numpy               tabulate\n",
      "_compression        daal4py             numpydoc            tarfile\n",
      "_contextvars        dask                oauthlib            tbb\n",
      "_csv                dataclasses         odbc                tblib\n",
      "_ctypes             datashader          olefile             telnetlib\n",
      "_ctypes_test        datashape           onedal              tempfile\n",
      "_datetime           datetime            opcode              tenacity\n",
      "_decimal            dateutil            openpyxl            tensorboard\n",
      "_distutils_hack     dbi                 operator            tensorboard_data_server\n",
      "_elementtree        dbm                 opt_einsum          tensorboard_plugin_wit\n",
      "_functools          dde                 optparse            tensorflow\n",
      "_hashlib            debugpy             os                  tensorflow_estimator\n",
      "_heapq              decimal             packaging           tensorflow_hub\n",
      "_imp                decorator           pandas              tensorflow_io_gcs_filesystem\n",
      "_io                 defusedxml          pandocfilters       termcolor\n",
      "_json               diff_match_patch    panel               terminado\n",
      "_locale             difflib             param               test\n",
      "_lsprof             dis                 paramiko            test_pycosat\n",
      "_lzma               distributed         parsel              testpath\n",
      "_markupbase         distutils           parser              text_unidecode\n",
      "_md5                doctest             parso               textdistance\n",
      "_msi                docutils            partd               textwrap\n",
      "_multibytecodec     email               past                thinc\n",
      "_multiprocessing    en_core_web_sm      pasta               this\n",
      "_nsis               encodings           pathlib             threading\n",
      "_opcode             ensurepip           pathspec            threadpoolctl\n",
      "_operator           entrypoints         pathy               three_merge\n",
      "_osx_support        enum                patsy               tifffile\n",
      "_overlapped         erfa                pdb                 time\n",
      "_peg_parser         errno               pep8                timeit\n",
      "_pickle             et_xmlfile          perfmon             timer\n",
      "_plotly_future_     executing           pexpect             tinycss\n",
      "_plotly_utils       fastjsonschema      pickle              tkinter\n",
      "_py_abc             faulthandler        pickleshare         tldextract\n",
      "_pydecimal          filecmp             pickletools         tlz\n",
      "_pyio               fileinput           pip                 token\n",
      "_pyrsistent_version filelock            pipes               tokenize\n",
      "_pytest             flake8              pkg_resources       toml\n",
      "_queue              flask               pkginfo             tomli\n",
      "_random             flatbuffers         pkgutil             toolz\n",
      "_sha1               fnmatch             platform            torch\n",
      "_sha256             fontTools           plistlib            torchaudio\n",
      "_sha3               formatter           plotly              torchtext\n",
      "_sha512             fractions           pluggy              torchvision\n",
      "_signal             frozenlist          poplib              tornado\n",
      "_sitebuiltins       fsspec              posixpath           tqdm\n",
      "_socket             ftplib              poyo                trace\n",
      "_sqlite3            functools           pprint              traceback\n",
      "_sre                future              preshed             tracemalloc\n",
      "_ssl                gast                profile             traitlets\n",
      "_stat               gc                  prometheus_client   tty\n",
      "_statistics         genericpath         prompt_toolkit      turtle\n",
      "_string             gensim              protego             turtledemo\n",
      "_strptime           getopt              pstats              twisted\n",
      "_struct             getpass             psutil              typed_ast\n",
      "_symtable           gettext             pty                 typer\n",
      "_system_path        glob                ptyprocess          types\n",
      "_testbuffer         glob2               pure_eval           typing\n",
      "_testcapi           google_auth_oauthlib pvectorc            typing_extensions\n",
      "_testconsole        google_crc32c       py                  ujson\n",
      "_testimportmultiple graphlib            py_compile          unicodedata\n",
      "_testinternalcapi   greenlet            pyasn1              unidecode\n",
      "_testmultiphase     grpc                pyasn1_modules      unittest\n",
      "_thread             gzip                pyclbr              urllib\n",
      "_threading_local    h5py                pycodestyle         urllib3\n",
      "_tkinter            hamcrest            pycosat             uu\n",
      "_tracemalloc        hashlib             pycparser           uuid\n",
      "_uuid               heapdict            pyct                vega_datasets\n",
      "_warnings           heapq               pycurl              venv\n",
      "_weakref            hmac                pydantic            w3lib\n",
      "_weakrefset         holoviews           pydispatch          warnings\n",
      "_win32sysloader     html                pydoc               wasabi\n",
      "_winapi             http                pydoc_data          watchdog\n",
      "_winxptheme         hvplot              pydocstyle          wave\n",
      "_xxsubinterpreters  hyperlink           pyexpat             wcwidth\n",
      "_yaml               idlelib             pyflakes            weakref\n",
      "_zoneinfo           idna                pygments            webbrowser\n",
      "abc                 imagecodecs         pylab               webencodings\n",
      "absl                imageio             pylint              websocket\n",
      "adodbapi            imagesize           pyls_spyder         werkzeug\n",
      "afxres              imaplib             pylsp               wheel\n",
      "aifc                imghdr              pylsp_black         widgetsnbextension\n",
      "aiohttp             imp                 pylsp_jsonrpc       win2kras\n",
      "aiosignal           importlib           pyodbc              win32api\n",
      "alabaster           importlib_metadata  pyparsing           win32clipboard\n",
      "altair              incremental         pyreadline          win32com\n",
      "anaconda_navigator  inflection          pyrsistent          win32con\n",
      "anaconda_project    iniconfig           pytest              win32console\n",
      "antigravity         inspect             pythoncom           win32cred\n",
      "anyio               intake              pytz                win32crypt\n",
      "appdirs             intervaltree        pyviz_comms         win32cryptcon\n",
      "argon2              io                  pywin               win32ctypes\n",
      "argparse            ipaddress           pywin32_bootstrap   win32event\n",
      "array               ipykernel           pywin32_testutil    win32evtlog\n",
      "arrow               ipykernel_launcher  pywintypes          win32evtlogutil\n",
      "ast                 ipython_genutils    pywt                win32file\n",
      "astroid             ipywidgets          pyximport           win32gui\n",
      "astropy             isapi               qdarkstyle          win32gui_struct\n",
      "asttokens           isort               qstylizer           win32help\n",
      "astunparse          isympy              qtawesome           win32inet\n",
      "async_timeout       itemadapter         qtconsole           win32inetcon\n",
      "asynchat            itemloaders         qtpy                win32job\n",
      "asyncio             itertools           queue               win32lz\n",
      "asyncore            itsdangerous        queuelib            win32net\n",
      "atexit              jdcal               quopri              win32netcon\n",
      "atomicwrites        jedi                random              win32pdh\n",
      "attr                jinja2              rasutil             win32pdhquery\n",
      "attrs               jinja2_time         re                  win32pdhutil\n",
      "audioop             jmespath            readline            win32pipe\n",
      "automat             joblib              regcheck            win32print\n",
      "autopep8            json                regex               win32process\n",
      "babel               json5               regutil             win32profile\n",
      "backcall            jsonschema          repo_cli            win32ras\n",
      "backports           jupyter             reprlib             win32rcparser\n",
      "base64              jupyter_client      requests            win32security\n",
      "bcrypt              jupyter_console     requests_file       win32service\n",
      "bdb                 jupyter_core        requests_oauthlib   win32serviceutil\n",
      "bert                jupyter_server      rlcompleter         win32timezone\n",
      "binaryornot         jupyterlab          rope                win32trace\n",
      "binascii            jupyterlab_plotly   rsa                 win32traceutil\n",
      "binhex              jupyterlab_pygments rtree               win32transaction\n",
      "binstar_client      jupyterlab_server   ruamel_yaml         win32ts\n",
      "bisect              jupyterlab_widgets  run                 win32ui\n",
      "bitarray            jwt                 runpy               win32uiole\n",
      "bkcharts            keras               s3transfer          win32verstamp\n",
      "black               keras_preprocessing sched               win32wnet\n",
      "blackd              keyring             scipy               win_inet_pton\n",
      "bleach              keyword             scrapy              win_unicode_console\n",
      "blib2to3            kiwisolver          seaborn             wincertstore\n",
      "blis                langcodes           secrets             winerror\n",
      "bokeh               lazy_object_proxy   select              winioctlcon\n",
      "boto3               lib2to3             selectors           winnt\n",
      "botocore            libarchive          send2trash          winperf\n",
      "bottleneck          libfuturize         service_identity    winpty\n",
      "brotli              libpasteurize       servicemanager      winreg\n",
      "bs4                 lief                setuptools          winsound\n",
      "builtins            linecache           shellingham         winxpgui\n",
      "bz2                 llvmlite            shelve              winxptheme\n",
      "cProfile            locale              shlex               wrapt\n",
      "cachetools          locket              shutil              wsgiref\n",
      "caffe2              logging             signal              xarray\n",
      "calendar            lxml                sip                 xdrlib\n",
      "catalogue           lzma                sipconfig           xlrd\n",
      "certifi             mailbox             sipdistutils        xlsxwriter\n",
      "cffi                mailcap             site                xlwings\n",
      "cgi                 markdown            six                 xml\n",
      "cgitb               markupsafe          skimage             xmlrpc\n",
      "chardet             marshal             sklearn             xxsubtype\n",
      "charset_normalizer  math                sklearnex           yaml\n",
      "chunk               matplotlib          slugify             yapf\n",
      "clang               matplotlib_inline   smart_open          yapftests\n",
      "click               mccabe              smtpd               yarl\n",
      "cloudpickle         menuinst            smtplib             zict\n",
      "clyent              mimetypes           snappy              zipapp\n",
      "cmath               mistune             sndhdr              zipfile\n",
      "cmd                 mkl                 sniffio             zipimport\n",
      "code                mkl_fft             snowballstemmer     zipp\n",
      "codecs              mkl_random          socket              zlib\n",
      "codeop              mmap                socketserver        zmq\n",
      "collections         mmapfile            socks               zoneinfo\n",
      "colorama            mmsystem            sockshandler        zope\n",
      "colorcet            mock                sortedcollections   ~orch\n",
      "colorsys            modulefinder        sortedcontainers    ~orchgen\n",
      "commctrl            mpmath              soupsieve           ~ydantic\n",
      "compileall          msgpack             spacy               \n",
      "comtypes            msilib              spacy_legacy        \n",
      "concurrent          msvcrt              spacy_loggers       \n",
      "\n",
      "Enter any module name to get more help.  Or, type \"modules spam\" to search\n",
      "for modules whose name or summary contain the string \"spam\".\n",
      "\n"
     ]
    }
   ],
   "source": [
    "help('modules')"
   ]
  },
  {
   "cell_type": "markdown",
   "metadata": {
    "id": "0ru_hHJ7ZBTO"
   },
   "source": [
    "1. Write a Python program to get the Python version you are using. "
   ]
  },
  {
   "cell_type": "code",
   "execution_count": 3,
   "metadata": {
    "colab": {
     "base_uri": "https://localhost:8080/"
    },
    "id": "u91pGyjtYk0c",
    "outputId": "c2480a11-75d6-4092-beba-b671e728b26e"
   },
   "outputs": [
    {
     "name": "stdout",
     "output_type": "stream",
     "text": [
      "Python version\n",
      "3.7.15 (default, Oct 12 2022, 19:14:55) \n",
      "[GCC 7.5.0]\n",
      "Version info.\n",
      "sys.version_info(major=3, minor=7, micro=15, releaselevel='final', serial=0)\n"
     ]
    }
   ],
   "source": [
    "import sys\n",
    "print(\"Python version\")\n",
    "print (sys.version)\n",
    "print(\"Version info.\")\n",
    "print (sys.version_info)"
   ]
  },
  {
   "cell_type": "markdown",
   "metadata": {
    "id": "ZiynY_kEZKdG"
   },
   "source": [
    "2. Write a Python program to display the current date and time."
   ]
  },
  {
   "cell_type": "code",
   "execution_count": 7,
   "metadata": {
    "colab": {
     "base_uri": "https://localhost:8080/"
    },
    "id": "m6FWwUA2Y2te",
    "outputId": "616a84a6-4d39-44f8-cc80-1de5a5d4ef3c"
   },
   "outputs": [
    {
     "data": {
      "text/plain": [
       "datetime.datetime(2022, 11, 15, 13, 6, 36, 995348)"
      ]
     },
     "execution_count": 7,
     "metadata": {},
     "output_type": "execute_result"
    }
   ],
   "source": [
    "import datetime\n",
    "x = datetime.datetime.now()\n",
    "x"
   ]
  },
  {
   "cell_type": "code",
   "execution_count": 8,
   "metadata": {
    "colab": {
     "base_uri": "https://localhost:8080/"
    },
    "id": "XJN0eP_JZOHZ",
    "outputId": "7c1c370a-6a14-4429-889d-563894fe37d1"
   },
   "outputs": [
    {
     "name": "stdout",
     "output_type": "stream",
     "text": [
      "Current date and time : \n",
      "2022-11-15 13:06:49\n"
     ]
    }
   ],
   "source": [
    "import datetime\n",
    "now = datetime.datetime.now()\n",
    "print (\"Current date and time : \")\n",
    "print (now.strftime(\"%Y-%m-%d %H:%M:%S\"))"
   ]
  },
  {
   "cell_type": "markdown",
   "metadata": {
    "id": "_umJvnwwZfB4"
   },
   "source": [
    "3. Write a Python program which accepts the radius of a circle from the user and compute the area. "
   ]
  },
  {
   "cell_type": "code",
   "execution_count": 9,
   "metadata": {
    "colab": {
     "base_uri": "https://localhost:8080/"
    },
    "id": "ELLtAz3NZbCw",
    "outputId": "872c8463-3be0-42ef-b62a-9b048e9da15f"
   },
   "outputs": [
    {
     "name": "stdout",
     "output_type": "stream",
     "text": [
      "Input the radius of the circle : 1.1\n",
      "The area of the circle with radius 1.1 is: 3.8013271108436504\n"
     ]
    }
   ],
   "source": [
    "from math import pi\n",
    "r = float(input (\"Input the radius of the circle : \"))\n",
    "print (\"The area of the circle with radius \" + str(r) + \" is: \" +  str(pi * r**2))"
   ]
  },
  {
   "cell_type": "markdown",
   "metadata": {
    "id": "4kGLJdTaZn2n"
   },
   "source": [
    "4. Write a Python program which accepts the user's first and last name and print them in reverse order with a space between them "
   ]
  },
  {
   "cell_type": "code",
   "execution_count": 10,
   "metadata": {
    "colab": {
     "base_uri": "https://localhost:8080/"
    },
    "id": "N6vGzAjYZjj9",
    "outputId": "f837935c-2070-4846-b1fb-23229755bd14"
   },
   "outputs": [
    {
     "name": "stdout",
     "output_type": "stream",
     "text": [
      "Input your First Name : Dibyanshu\n",
      "Input your Last Name : Dwivedi\n",
      "Hello  Dwivedi Dibyanshu\n"
     ]
    }
   ],
   "source": [
    "fname = input(\"Input your First Name : \")\n",
    "lname = input(\"Input your Last Name : \")\n",
    "print (\"Hello  \" + lname + \" \" + fname)"
   ]
  },
  {
   "cell_type": "markdown",
   "metadata": {
    "id": "3MAPcoBgZyuJ"
   },
   "source": [
    "5. Write a Python program which accepts a sequence of comma-separated numbers from user and generate a list and a tuple with those numbers"
   ]
  },
  {
   "cell_type": "code",
   "execution_count": 11,
   "metadata": {
    "colab": {
     "base_uri": "https://localhost:8080/"
    },
    "id": "ztzAdmiGZuCo",
    "outputId": "849cdf0a-af4d-4a44-e3aa-1d11981ee516"
   },
   "outputs": [
    {
     "name": "stdout",
     "output_type": "stream",
     "text": [
      "Input some comma separated numbers : 3, 5, 7, 23\n",
      "List :  ['3', ' 5', ' 7', ' 23']\n",
      "Tuple :  ('3', ' 5', ' 7', ' 23')\n"
     ]
    }
   ],
   "source": [
    "values = input(\"Input some comma separated numbers : \")\n",
    "list1 = values.split(\",\")\n",
    "tuple1 = tuple(list1)\n",
    "print('List : ',list1)\n",
    "print ('Tuple : ',tuple1)"
   ]
  },
  {
   "cell_type": "code",
   "execution_count": 12,
   "metadata": {
    "colab": {
     "base_uri": "https://localhost:8080/"
    },
    "id": "6FbGk9BwaGw5",
    "outputId": "0e84b62a-0ce8-4215-a913-c7a5b588df80"
   },
   "outputs": [
    {
     "name": "stdout",
     "output_type": "stream",
     "text": [
      "['hello', 'my name is Peter', 'I am from UK']\n"
     ]
    }
   ],
   "source": [
    "txt = \"hello, my name is Peter, I am from UK\"\n",
    "\n",
    "x = txt.split(\", \")\n",
    "\n",
    "print(x)"
   ]
  },
  {
   "cell_type": "code",
   "execution_count": 13,
   "metadata": {
    "colab": {
     "base_uri": "https://localhost:8080/"
    },
    "id": "I_YqKVUHaL7p",
    "outputId": "82f7ae4b-d609-4d05-c066-d32b800b5d62"
   },
   "outputs": [
    {
     "name": "stdout",
     "output_type": "stream",
     "text": [
      "['apple', 'banana', 'cherry', 'orange']\n"
     ]
    }
   ],
   "source": [
    "txt = \"apple#banana#cherry#orange\"\n",
    "\n",
    "x = txt.split(\"#\")\n",
    "\n",
    "print(x)"
   ]
  },
  {
   "cell_type": "code",
   "execution_count": 15,
   "metadata": {
    "colab": {
     "base_uri": "https://localhost:8080/"
    },
    "id": "C9T69UPraP88",
    "outputId": "05a5c42d-b0d1-466e-c5bf-3db6f7df265f"
   },
   "outputs": [
    {
     "name": "stdout",
     "output_type": "stream",
     "text": [
      "['apple', 'banana#cherry#orange']\n"
     ]
    }
   ],
   "source": [
    "txt = \"apple#banana#cherry#orange\"\n",
    "\n",
    "# setting the maxsplit parameter to 1, will return a list with 2 elements!\n",
    "x = txt.split(\"#\", 1)\n",
    "print(x)"
   ]
  },
  {
   "cell_type": "markdown",
   "metadata": {
    "id": "uF2gcl9waYsG"
   },
   "source": [
    "6. Write a Python program to accept a filename from the user and print the extension of that. "
   ]
  },
  {
   "cell_type": "code",
   "execution_count": 16,
   "metadata": {
    "colab": {
     "base_uri": "https://localhost:8080/"
    },
    "id": "Sdfd_AP3aSgq",
    "outputId": "426e22e6-4ca4-4e42-b40f-b4a04ec8ac5a"
   },
   "outputs": [
    {
     "name": "stdout",
     "output_type": "stream",
     "text": [
      "Input the Filename: abc.java\n",
      "The extension of the file is : 'java'\n"
     ]
    }
   ],
   "source": [
    "filename = input(\"Input the Filename: \")\n",
    "f_extns = filename.split(\".\")\n",
    "print (\"The extension of the file is : \" + repr(f_extns[-1]))"
   ]
  },
  {
   "cell_type": "code",
   "execution_count": 17,
   "metadata": {
    "colab": {
     "base_uri": "https://localhost:8080/"
    },
    "id": "CUPIT3VzafDS",
    "outputId": "7f103aac-a39c-4ac7-db2d-6a69de3c1bf1"
   },
   "outputs": [
    {
     "name": "stdout",
     "output_type": "stream",
     "text": [
      "2022-11-15 13:11:58.722124\n",
      "2022-11-15 13:11:58.722124\n",
      "datetime.datetime(2022, 11, 15, 13, 11, 58, 722124)\n"
     ]
    }
   ],
   "source": [
    "import datetime\n",
    "today = datetime.datetime.now()\n",
    "print (today)\n",
    "print (str(today))\n",
    "#prints the official format of date-time object\n",
    "print (repr(today))"
   ]
  },
  {
   "cell_type": "markdown",
   "metadata": {
    "id": "YhjZL-10arXo"
   },
   "source": [
    "7. Write a Python program to display the first and last colors from the following list."
   ]
  },
  {
   "cell_type": "code",
   "execution_count": 18,
   "metadata": {
    "colab": {
     "base_uri": "https://localhost:8080/"
    },
    "id": "i_ws-a93amdg",
    "outputId": "2934f527-5947-4336-c837-dc7dee39b0e3"
   },
   "outputs": [
    {
     "name": "stdout",
     "output_type": "stream",
     "text": [
      "Red Black\n"
     ]
    }
   ],
   "source": [
    "color_list = [\"Red\",\"Green\",\"White\" ,\"Black\"]\n",
    "print( \"%s %s\"%(color_list[0],color_list[-1]))"
   ]
  },
  {
   "cell_type": "markdown",
   "metadata": {
    "id": "8h_nXApba0EW"
   },
   "source": [
    "8. Write a Python program that accepts an integer (n) and computes the value of n+nn+nnn."
   ]
  },
  {
   "cell_type": "code",
   "execution_count": 19,
   "metadata": {
    "colab": {
     "base_uri": "https://localhost:8080/"
    },
    "id": "jtrviOVraumI",
    "outputId": "79c0c788-b0ad-4e99-cd58-88f9fbe280f7"
   },
   "outputs": [
    {
     "name": "stdout",
     "output_type": "stream",
     "text": [
      "Input an integer : 5\n",
      "615\n"
     ]
    }
   ],
   "source": [
    "a = int(input(\"Input an integer : \"))\n",
    "n1 = int( \"%s\" % a )\n",
    "n2 = int( \"%s%s\" % (a,a) )\n",
    "n3 = int( \"%s%s%s\" % (a,a,a) )\n",
    "print (n1+n2+n3)"
   ]
  },
  {
   "cell_type": "markdown",
   "metadata": {
    "id": "BQPAV-Rfa8EH"
   },
   "source": [
    "9. Write a Python program to get the volume of a sphere with radius 6."
   ]
  },
  {
   "cell_type": "code",
   "execution_count": 20,
   "metadata": {
    "colab": {
     "base_uri": "https://localhost:8080/"
    },
    "id": "c3HZdewva5fY",
    "outputId": "c2a1434a-e7cd-4177-938d-58aa168ec98b"
   },
   "outputs": [
    {
     "name": "stdout",
     "output_type": "stream",
     "text": [
      "The volume of the sphere is:  904.7786842338603\n"
     ]
    }
   ],
   "source": [
    "pi = 3.1415926535897931\n",
    "r= 6.0\n",
    "V= 4.0/3.0*pi* r**3\n",
    "print('The volume of the sphere is: ',V)"
   ]
  },
  {
   "cell_type": "markdown",
   "metadata": {
    "id": "mUGGHNqrbDPD"
   },
   "source": [
    "10. Write a Python program to convert seconds to day, hour, minutes and seconds.  "
   ]
  },
  {
   "cell_type": "code",
   "execution_count": 21,
   "metadata": {
    "colab": {
     "base_uri": "https://localhost:8080/"
    },
    "id": "x1dD4krwbA67",
    "outputId": "9ce1ba76-78c5-4467-f3ff-ed4b461bce7a"
   },
   "outputs": [
    {
     "name": "stdout",
     "output_type": "stream",
     "text": [
      "Input time in seconds: 86400\n",
      "d:h:m:s-> 1 days :0 hours:0 minutes:0 seconds\n"
     ]
    }
   ],
   "source": [
    "time = float(input(\"Input time in seconds: \"))\n",
    "day = time // (24 * 3600)\n",
    "time = time % (24 * 3600)\n",
    "hour = time // 3600\n",
    "time %= 3600\n",
    "minutes = time // 60\n",
    "time %= 60\n",
    "seconds = time\n",
    "print(\"d:h:m:s-> %d days :%d hours:%d minutes:%d seconds\" % (day, hour, minutes, seconds))"
   ]
  },
  {
   "cell_type": "code",
   "execution_count": null,
   "metadata": {
    "id": "kpitfjnKbIEr"
   },
   "outputs": [],
   "source": []
  }
 ],
 "metadata": {
  "colab": {
   "provenance": []
  },
  "kernelspec": {
   "display_name": "Python 3 (ipykernel)",
   "language": "python",
   "name": "python3"
  },
  "language_info": {
   "codemirror_mode": {
    "name": "ipython",
    "version": 3
   },
   "file_extension": ".py",
   "mimetype": "text/x-python",
   "name": "python",
   "nbconvert_exporter": "python",
   "pygments_lexer": "ipython3",
   "version": "3.9.12"
  }
 },
 "nbformat": 4,
 "nbformat_minor": 1
}
