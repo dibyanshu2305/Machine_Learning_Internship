{
 "cells": [
  {
   "cell_type": "code",
   "execution_count": 1,
   "id": "cb4ea911",
   "metadata": {},
   "outputs": [],
   "source": [
    "import base64 "
   ]
  },
  {
   "cell_type": "code",
   "execution_count": 2,
   "id": "38ba9553",
   "metadata": {},
   "outputs": [
    {
     "name": "stdout",
     "output_type": "stream",
     "text": [
      "Enter Reference ID: ghweftgysh12\n"
     ]
    }
   ],
   "source": [
    "reference_id = input ('Enter Reference ID: ')"
   ]
  },
  {
   "cell_type": "code",
   "execution_count": 3,
   "id": "62ca6733",
   "metadata": {},
   "outputs": [
    {
     "name": "stdout",
     "output_type": "stream",
     "text": [
      "Is validated: True\n",
      " Congratulations!!! ReferenceID is encrypted b'Z2h3ZWZ0Z3lzaDEy'\n"
     ]
    }
   ],
   "source": [
    "if(len(reference_id) != 12):\n",
    "    print(\"Reference ID should be 12 characters\")\n",
    "else:\n",
    "    allowed_chars = \"ABCDEFGHIJKLMNOPQRSTUVWXYZ\" + \"abcdefghijklmnopqrstuvwxyz\" +  \"0123456789\"\n",
    "    is_validated = True\n",
    "    for c in reference_id:\n",
    "        if (c not in allowed_chars):\n",
    "            is_validated = False\n",
    "            break\n",
    "    print(\"Is validated:\", is_validated)\n",
    "    if(not is_validated) :\n",
    "        print(\"Reference ID should contain only number and alphabets\")\n",
    "    else:    \n",
    "        reference_id_encrypt = base64.b64encode(reference_id.encode())\n",
    "        print(\" Congratulations!!! ReferenceID is encrypted\",reference_id_encrypt )"
   ]
  },
  {
   "cell_type": "code",
   "execution_count": null,
   "id": "ab9495bd",
   "metadata": {},
   "outputs": [],
   "source": []
  }
 ],
 "metadata": {
  "kernelspec": {
   "display_name": "Python 3 (ipykernel)",
   "language": "python",
   "name": "python3"
  },
  "language_info": {
   "codemirror_mode": {
    "name": "ipython",
    "version": 3
   },
   "file_extension": ".py",
   "mimetype": "text/x-python",
   "name": "python",
   "nbconvert_exporter": "python",
   "pygments_lexer": "ipython3",
   "version": "3.9.12"
  }
 },
 "nbformat": 4,
 "nbformat_minor": 5
}
